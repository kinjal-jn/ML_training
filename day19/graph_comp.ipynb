{
 "cells": [
  {
   "cell_type": "markdown",
   "metadata": {},
   "source": [
    "## Matplotlib\n",
    "1. plot               - line graph b/w two parameters \n",
    "2. bar                - bar graph of single parameter (optional cat_data)\n",
    "3. histogram          - histogram of a bunch of data i.e frequency of single param\n",
    "4. scatter            - dot graph b/w two param\n",
    "5. boxplot/ box       - statistical overview in form of box for a single param\n",
    "                         mean, outliners, quantiliers(25%, 75%),  \n",
    "                         IQR (optional - categorical data)\n",
    "6. stem               - more like bar graph, Lines instead of bars\n",
    "7. violinplot         - violin shaped statistical overview graph\n",
    "                        spread of data (more like hist)\n",
    "                        single parameter(optional cat_data)"
   ]
  },
  {
   "cell_type": "markdown",
   "metadata": {},
   "source": [
    "plt.bar(x,y)\n",
    "plt.title('bar graph')\n",
    "plt.show()\n",
    "\n",
    "plt.plot(x,y)\n",
    "plt.title('plot graph')\n",
    "plt.show()\n",
    "\n",
    "plt.hist(x)\n",
    "plt.title('histogram')\n",
    "plt.show()\n",
    "\n",
    "plt.violinplot(x)\n",
    "plt.title('violin plot')\n",
    "plt.show()\n",
    "\n",
    "plt.scatter(x,y)\n",
    "plt.title('scatter')\n",
    "plt.grid()\n",
    "plt.xlabel('x------>')\n",
    "plt.ylabel('y------>')\n",
    "plt.xticks(x)\n",
    "plt.yticks(range(0,200,10))\n",
    "plt.show()\n",
    "\n",
    "plt.boxplot(x)\n",
    "plt.title('Box plot')\n",
    "plt.show()"
   ]
  },
  {
   "cell_type": "markdown",
   "metadata": {},
   "source": [
    "#### graph functions\n",
    "1. plot                        - simple line plot\n",
    "2. plot.area                   - filled version of line plot\n",
    "3. plot.bar / plot.barh        - bar graph\n",
    "4. plot.box                    -box plot\n",
    "5. plot.density                - Density line (smooth curved)\n",
    "6. plot.hexbin                 - hexagon version of scatter with density\n",
    "7. plot.hist                   - histogram\n",
    "8. plot.kde                    - kernel density estimator (Density graph)\n",
    "9. plot.pie                    - pie chart of categorical data\n",
    "10. plot.scatter               - scatter graph"
   ]
  },
  {
   "cell_type": "markdown",
   "metadata": {},
   "source": [
    "df2.plot(); plt.title('Line Plot'); plt.show()\n",
    "df2.plot.area(); plt.title('Area Plot'); plt.show()\n",
    "df2.plot.bar(); plt.title('Bar Plot'); plt.show()\n",
    "df2.plot.box(); plt.title('Box Plot'); plt.show()\n",
    "df2.plot.barh(); plt.title('Bar Horizontal Plot'); plt.show()\n",
    "df2.plot.density(); plt.title('Density Plot'); plt.show()\n",
    "df2.plot.kde(); plt.title('KDE Plot'); plt.show()\n",
    "df2.plot.hist(); plt.title('Histogram Plot'); plt.show()\n",
    "\n",
    "df2.plot.scatter(x='a', y='b'); plt.title('Scatter Plot'); plt.show()\n",
    "\n",
    "df2.plot.hexbin(x='a', y='b', C='c', gridsize=6); plt.title(' Hexbin Plot'); plt.show()"
   ]
  },
  {
   "cell_type": "markdown",
   "metadata": {},
   "source": [
    "### categories\n",
    "1. categorical plots (hue can be used | comparision with categorical data)\n",
    "    a. countplot (single argument)\n",
    "    b. barplot (categorical + numerical data |calculates mean by default)\n",
    "    c. boxplot\n",
    "    d. violinplot\n",
    "    e. swarmplot\n",
    "2. Distribution plot\n",
    "    a. dist plot\n",
    "    b. displot\n",
    "    c. joint plot\n",
    "    d. pairplot\n",
    "    e. kdeplot\n",
    "    f. rugplot\n",
    "    g. scatterplot\n",
    "3. Matrix plot\n",
    "    a. heatmap\n",
    "    b. clusterplor\n",
    "    e. pairplot(same as above)\n",
    "4. regression plot\n",
    "    a. lmplot\n",
    "    b. regplot\n",
    "5. Grid plots\n",
    "    a. pairGrid\n",
    "    b. JointGrid\n",
    "    c. FacetGrid"
   ]
  },
  {
   "cell_type": "markdown",
   "metadata": {},
   "source": [
    "sns.boxplot(x='day', y='total_bill', data = tips, hue = 'smoker')\n",
    "plt.show()\n",
    "sns.violinplot(x='day', y='total_bill', data = tips, hue = 'smoker')\n",
    "plt.show()\n",
    "sns.swarmplot(x='day', y='total_bill', data = tips, hue = 'smoker')\n",
    "plt.show()"
   ]
  },
  {
   "cell_type": "markdown",
   "metadata": {},
   "source": [
    "sns.boxplot(x='day', y='total_bill', data = tips, hue = 'time')"
   ]
  }
 ],
 "metadata": {
  "kernelspec": {
   "display_name": "Python 3.10.7 64-bit",
   "language": "python",
   "name": "python3"
  },
  "language_info": {
   "name": "python",
   "version": "3.10.7"
  },
  "orig_nbformat": 4,
  "vscode": {
   "interpreter": {
    "hash": "beedbe2faf2f7048d727558d0bc3221e7eba2a0b921cac4d4771b2feb8f74b30"
   }
  }
 },
 "nbformat": 4,
 "nbformat_minor": 2
}
